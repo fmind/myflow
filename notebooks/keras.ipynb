{
 "cells": [
  {
   "cell_type": "code",
   "execution_count": 2,
   "metadata": {},
   "outputs": [],
   "source": [
    "import warnings\n",
    "warnings.filterwarnings(\"ignore\")"
   ]
  },
  {
   "cell_type": "code",
   "execution_count": 8,
   "metadata": {},
   "outputs": [],
   "source": [
    "import numpy as np\n",
    "import tensorflow as tf\n",
    "\n",
    "from tensorflow import keras\n",
    "from tensorflow.keras import layers"
   ]
  },
  {
   "cell_type": "markdown",
   "metadata": {},
   "source": [
    "# Datasets"
   ]
  },
  {
   "cell_type": "code",
   "execution_count": 12,
   "metadata": {},
   "outputs": [],
   "source": [
    "data = np.random.random((1000, 32))\n",
    "labels = np.random.random((1000, 10))\n",
    "\n",
    "val_data = np.random.random((100, 32))\n",
    "val_labels = np.random.random((100, 10))"
   ]
  },
  {
   "cell_type": "markdown",
   "metadata": {},
   "source": [
    "# Sequential"
   ]
  },
  {
   "cell_type": "code",
   "execution_count": 6,
   "metadata": {},
   "outputs": [
    {
     "data": {
      "text/plain": [
       "<tensorflow.python.keras.engine.sequential.Sequential at 0x7fd8e4409208>"
      ]
     },
     "execution_count": 6,
     "metadata": {},
     "output_type": "execute_result"
    }
   ],
   "source": [
    "model = tf.keras.Sequential()\n",
    "\n",
    "model.add(layers.Dense(64, activation='relu'))\n",
    "model.add(layers.Dense(64, activation='relu'))\n",
    "model.add(layers.Dense(10, activation='softmax'))"
   ]
  },
  {
   "cell_type": "code",
   "execution_count": 7,
   "metadata": {},
   "outputs": [],
   "source": [
    "model.compile(optimizer=tf.keras.optimizers.Adam(0.01),\n",
    "              loss='categorical_crossentropy',\n",
    "              metrics=['accuracy'])"
   ]
  },
  {
   "cell_type": "code",
   "execution_count": 13,
   "metadata": {},
   "outputs": [
    {
     "name": "stdout",
     "output_type": "stream",
     "text": [
      "Train on 1000 samples, validate on 100 samples\n",
      "Epoch 1/10\n",
      "1000/1000 [==============================] - 0s 104us/sample - loss: 11.5386 - accuracy: 0.0940 - val_loss: 11.4234 - val_accuracy: 0.1000\n",
      "Epoch 2/10\n",
      "1000/1000 [==============================] - 0s 37us/sample - loss: 11.5336 - accuracy: 0.1060 - val_loss: 11.4234 - val_accuracy: 0.1300\n",
      "Epoch 3/10\n",
      "1000/1000 [==============================] - 0s 40us/sample - loss: 11.5337 - accuracy: 0.1010 - val_loss: 11.4238 - val_accuracy: 0.1300\n",
      "Epoch 4/10\n",
      "1000/1000 [==============================] - 0s 42us/sample - loss: 11.5339 - accuracy: 0.0920 - val_loss: 11.4221 - val_accuracy: 0.1200\n",
      "Epoch 5/10\n",
      "1000/1000 [==============================] - 0s 39us/sample - loss: 11.5340 - accuracy: 0.0950 - val_loss: 11.4235 - val_accuracy: 0.1200\n",
      "Epoch 6/10\n",
      "1000/1000 [==============================] - 0s 41us/sample - loss: 11.5342 - accuracy: 0.1110 - val_loss: 11.4234 - val_accuracy: 0.0900\n",
      "Epoch 7/10\n",
      "1000/1000 [==============================] - 0s 36us/sample - loss: 11.5343 - accuracy: 0.1030 - val_loss: 11.4237 - val_accuracy: 0.0800\n",
      "Epoch 8/10\n",
      "1000/1000 [==============================] - 0s 39us/sample - loss: 11.5340 - accuracy: 0.0790 - val_loss: 11.4229 - val_accuracy: 0.0900\n",
      "Epoch 9/10\n",
      "1000/1000 [==============================] - 0s 39us/sample - loss: 11.5336 - accuracy: 0.0990 - val_loss: 11.4240 - val_accuracy: 0.1300\n",
      "Epoch 10/10\n",
      "1000/1000 [==============================] - 0s 39us/sample - loss: 11.5334 - accuracy: 0.0910 - val_loss: 11.4240 - val_accuracy: 0.0800\n"
     ]
    },
    {
     "data": {
      "text/plain": [
       "<tensorflow.python.keras.callbacks.History at 0x7fd8d00593c8>"
      ]
     },
     "execution_count": 13,
     "metadata": {},
     "output_type": "execute_result"
    }
   ],
   "source": [
    "model.fit(data, labels, epochs=10, batch_size=32,\n",
    "          validation_data=(val_data, val_labels))"
   ]
  },
  {
   "cell_type": "code",
   "execution_count": 15,
   "metadata": {},
   "outputs": [
    {
     "name": "stdout",
     "output_type": "stream",
     "text": [
      "1000/1000 [==============================] - 0s 16us/sample - loss: 11.5326 - accuracy: 0.1130\n"
     ]
    },
    {
     "data": {
      "text/plain": [
       "[11.532561027526855, 0.113]"
      ]
     },
     "execution_count": 15,
     "metadata": {},
     "output_type": "execute_result"
    }
   ],
   "source": [
    "model.evaluate(data, labels, batch_size=32)"
   ]
  },
  {
   "cell_type": "code",
   "execution_count": 18,
   "metadata": {},
   "outputs": [
    {
     "data": {
      "text/plain": [
       "(1000, 10)"
      ]
     },
     "execution_count": 18,
     "metadata": {},
     "output_type": "execute_result"
    }
   ],
   "source": [
    "result = model.predict(data, batch_size=32)\n",
    "\n",
    "result.shape"
   ]
  },
  {
   "cell_type": "markdown",
   "metadata": {},
   "source": [
    "# Functional"
   ]
  },
  {
   "cell_type": "code",
   "execution_count": 20,
   "metadata": {},
   "outputs": [],
   "source": [
    "inputs = tf.keras.Input(shape=(32,))\n",
    "\n",
    "layer = layers.Dense(64, activation='relu')(inputs)\n",
    "layer = layers.Dense(64, activation='relu')(layer)\n",
    "predictions = layers.Dense(10, activation='softmax')(layer)"
   ]
  },
  {
   "cell_type": "code",
   "execution_count": null,
   "metadata": {},
   "outputs": [],
   "source": [
    "model = tf.keras.Model(inputs=inputs, outputs=predictions)"
   ]
  },
  {
   "cell_type": "code",
   "execution_count": null,
   "metadata": {},
   "outputs": [],
   "source": [
    "model.compile(optimizer=tf.keras.optimizers.RMSprop(0.001),\n",
    "              loss='categorical_crossentropy',\n",
    "              metrics=['accuracy'])"
   ]
  },
  {
   "cell_type": "code",
   "execution_count": 23,
   "metadata": {},
   "outputs": [
    {
     "name": "stdout",
     "output_type": "stream",
     "text": [
      "Train on 1000 samples, validate on 100 samples\n",
      "Epoch 1/5\n",
      "1000/1000 [==============================] - 0s 35us/sample - loss: 11.5341 - accuracy: 0.1040 - val_loss: 11.4231 - val_accuracy: 0.1300\n",
      "Epoch 2/5\n",
      "1000/1000 [==============================] - 0s 40us/sample - loss: 11.5336 - accuracy: 0.0990 - val_loss: 11.4228 - val_accuracy: 0.0900\n",
      "Epoch 3/5\n",
      "1000/1000 [==============================] - 0s 40us/sample - loss: 11.5343 - accuracy: 0.1170 - val_loss: 11.4227 - val_accuracy: 0.0900\n",
      "Epoch 4/5\n",
      "1000/1000 [==============================] - 0s 41us/sample - loss: 11.5338 - accuracy: 0.1030 - val_loss: 11.4220 - val_accuracy: 0.0900\n",
      "Epoch 5/5\n",
      "1000/1000 [==============================] - 0s 35us/sample - loss: 11.5336 - accuracy: 0.1060 - val_loss: 11.4241 - val_accuracy: 0.0900\n"
     ]
    },
    {
     "data": {
      "text/plain": [
       "<tensorflow.python.keras.callbacks.History at 0x7fd888487da0>"
      ]
     },
     "execution_count": 23,
     "metadata": {},
     "output_type": "execute_result"
    }
   ],
   "source": [
    "model.fit(data, labels, batch_size=32, epochs=5,\n",
    "          validation_data=[val_data, val_labels])"
   ]
  },
  {
   "cell_type": "markdown",
   "metadata": {},
   "source": [
    "# Model"
   ]
  },
  {
   "cell_type": "code",
   "execution_count": 25,
   "metadata": {},
   "outputs": [],
   "source": [
    "class MyModel(tf.keras.Model):\n",
    "\n",
    "    def __init__(self, num_classes=10):\n",
    "        super(MyModel, self).__init__(name='my_model')\n",
    "        self.num_classes = num_classes\n",
    "        self.dense_1 = layers.Dense(32, activation='relu')\n",
    "        self.dense_2 = layers.Dense(num_classes, activation='sigmoid')\n",
    "\n",
    "    def call(self, inputs):\n",
    "        x = self.dense_1(inputs)\n",
    "        \n",
    "        return self.dense_2(x)\n",
    "    \n",
    "model = MyModel(num_classes=10)"
   ]
  },
  {
   "cell_type": "code",
   "execution_count": 25,
   "metadata": {},
   "outputs": [],
   "source": [
    "model.compile(optimizer=tf.keras.optimizers.RMSprop(0.001),\n",
    "              loss='categorical_crossentropy',\n",
    "              metrics=['accuracy'])"
   ]
  },
  {
   "cell_type": "code",
   "execution_count": 26,
   "metadata": {},
   "outputs": [
    {
     "name": "stdout",
     "output_type": "stream",
     "text": [
      "Train on 1000 samples, validate on 100 samples\n",
      "Epoch 1/5\n",
      "1000/1000 [==============================] - 0s 35us/sample - loss: 11.5335 - accuracy: 0.1090 - val_loss: 11.4222 - val_accuracy: 0.1300\n",
      "Epoch 2/5\n",
      "1000/1000 [==============================] - 0s 42us/sample - loss: 11.5338 - accuracy: 0.1050 - val_loss: 11.4231 - val_accuracy: 0.1300\n",
      "Epoch 3/5\n",
      "1000/1000 [==============================] - 0s 39us/sample - loss: 11.5338 - accuracy: 0.0950 - val_loss: 11.4235 - val_accuracy: 0.0900\n",
      "Epoch 4/5\n",
      "1000/1000 [==============================] - 0s 37us/sample - loss: 11.5337 - accuracy: 0.1030 - val_loss: 11.4232 - val_accuracy: 0.1300\n",
      "Epoch 5/5\n",
      "1000/1000 [==============================] - 0s 39us/sample - loss: 11.5335 - accuracy: 0.0900 - val_loss: 11.4216 - val_accuracy: 0.1300\n"
     ]
    },
    {
     "data": {
      "text/plain": [
       "<tensorflow.python.keras.callbacks.History at 0x7fd8884b5780>"
      ]
     },
     "execution_count": 26,
     "metadata": {},
     "output_type": "execute_result"
    }
   ],
   "source": [
    "model.fit(data, labels, batch_size=32, epochs=5,\n",
    "          validation_data=[val_data, val_labels])"
   ]
  },
  {
   "cell_type": "markdown",
   "metadata": {},
   "source": [
    "# Visualization"
   ]
  },
  {
   "cell_type": "code",
   "execution_count": 39,
   "metadata": {},
   "outputs": [
    {
     "name": "stdout",
     "output_type": "stream",
     "text": [
      "Model: \"sequential_1\"\n",
      "_________________________________________________________________\n",
      "Layer (type)                 Output Shape              Param #   \n",
      "=================================================================\n",
      "dense_3 (Dense)              multiple                  2112      \n",
      "_________________________________________________________________\n",
      "dense_4 (Dense)              multiple                  4160      \n",
      "_________________________________________________________________\n",
      "dense_5 (Dense)              multiple                  650       \n",
      "=================================================================\n",
      "Total params: 6,922\n",
      "Trainable params: 6,922\n",
      "Non-trainable params: 0\n",
      "_________________________________________________________________\n"
     ]
    }
   ],
   "source": [
    "model.summary()"
   ]
  },
  {
   "cell_type": "code",
   "execution_count": 41,
   "metadata": {},
   "outputs": [
    {
     "name": "stdout",
     "output_type": "stream",
     "text": [
      "Failed to import pydot. You must install pydot and graphviz for `pydotprint` to work.\n"
     ]
    }
   ],
   "source": [
    "keras.utils.plot_model(model)"
   ]
  },
  {
   "cell_type": "markdown",
   "metadata": {},
   "source": [
    "# Callbacks"
   ]
  },
  {
   "cell_type": "code",
   "execution_count": 27,
   "metadata": {},
   "outputs": [],
   "source": [
    "callbacks = [\n",
    "    keras.callbacks.TensorBoard(log_dir='/tmp/board.log'),\n",
    "]"
   ]
  },
  {
   "cell_type": "code",
   "execution_count": 28,
   "metadata": {},
   "outputs": [
    {
     "name": "stdout",
     "output_type": "stream",
     "text": [
      "Train on 1000 samples, validate on 100 samples\n",
      "Epoch 1/5\n",
      "1000/1000 [==============================] - 0s 51us/sample - loss: 11.5339 - accuracy: 0.0890 - val_loss: 11.4226 - val_accuracy: 0.1300\n",
      "Epoch 2/5\n",
      "1000/1000 [==============================] - 0s 40us/sample - loss: 11.5337 - accuracy: 0.0910 - val_loss: 11.4229 - val_accuracy: 0.0900\n",
      "Epoch 3/5\n",
      "1000/1000 [==============================] - 0s 38us/sample - loss: 11.5340 - accuracy: 0.1040 - val_loss: 11.4230 - val_accuracy: 0.0900\n",
      "Epoch 4/5\n",
      "1000/1000 [==============================] - 0s 41us/sample - loss: 11.5340 - accuracy: 0.1040 - val_loss: 11.4235 - val_accuracy: 0.1300\n",
      "Epoch 5/5\n",
      "1000/1000 [==============================] - 0s 38us/sample - loss: 11.5336 - accuracy: 0.1110 - val_loss: 11.4237 - val_accuracy: 0.1300\n"
     ]
    },
    {
     "data": {
      "text/plain": [
       "<tensorflow.python.keras.callbacks.History at 0x7fd86833e588>"
      ]
     },
     "execution_count": 28,
     "metadata": {},
     "output_type": "execute_result"
    }
   ],
   "source": [
    "model.fit(data, labels, batch_size=32, epochs=5, callbacks=callbacks,\n",
    "          validation_data=[val_data, val_labels])"
   ]
  },
  {
   "cell_type": "markdown",
   "metadata": {},
   "source": [
    "# Saving/Loading"
   ]
  },
  {
   "cell_type": "markdown",
   "metadata": {},
   "source": [
    "## All"
   ]
  },
  {
   "cell_type": "code",
   "execution_count": 37,
   "metadata": {},
   "outputs": [],
   "source": [
    "model.save('/tmp/mymodel.h5')"
   ]
  },
  {
   "cell_type": "code",
   "execution_count": 38,
   "metadata": {},
   "outputs": [
    {
     "name": "stdout",
     "output_type": "stream",
     "text": [
      "WARNING:tensorflow:Sequential models without an `input_shape` passed to the first layer cannot reload their optimizer state. As a result, your model isstarting with a freshly initialized optimizer.\n"
     ]
    }
   ],
   "source": [
    "model = keras.models.load_model('/tmp/mymodel.h5')"
   ]
  },
  {
   "cell_type": "markdown",
   "metadata": {},
   "source": [
    "## Weights"
   ]
  },
  {
   "cell_type": "code",
   "execution_count": 29,
   "metadata": {},
   "outputs": [],
   "source": [
    "model.save_weights('/tmp/mymodel.weights')"
   ]
  },
  {
   "cell_type": "code",
   "execution_count": 30,
   "metadata": {},
   "outputs": [
    {
     "data": {
      "text/plain": [
       "<tensorflow.python.training.tracking.util.CheckpointLoadStatus at 0x7fd8e43e0da0>"
      ]
     },
     "execution_count": 30,
     "metadata": {},
     "output_type": "execute_result"
    }
   ],
   "source": [
    "model.load_weights('/tmp/mymodel.weights')"
   ]
  },
  {
   "cell_type": "markdown",
   "metadata": {},
   "source": [
    "## Configuration"
   ]
  },
  {
   "cell_type": "code",
   "execution_count": 35,
   "metadata": {},
   "outputs": [
    {
     "name": "stdout",
     "output_type": "stream",
     "text": [
      "{\n",
      "  \"class_name\": \"Sequential\",\n",
      "  \"config\": {\n",
      "    \"name\": \"sequential_1\",\n",
      "    \"layers\": [\n",
      "      {\n",
      "        \"class_name\": \"Dense\",\n",
      "        \"config\": {\n",
      "          \"name\": \"dense_3\",\n",
      "          \"trainable\": true,\n",
      "          \"dtype\": \"float32\",\n",
      "          \"units\": 64,\n",
      "          \"activation\": \"relu\",\n",
      "          \"use_bias\": true,\n",
      "          \"kernel_initializer\": {\n",
      "            \"class_name\": \"GlorotUniform\",\n",
      "            \"config\": {\n",
      "              \"seed\": null\n",
      "            }\n",
      "          },\n",
      "          \"bias_initializer\": {\n",
      "            \"class_name\": \"Zeros\",\n",
      "            \"config\": {}\n",
      "          },\n",
      "          \"kernel_regularizer\": null,\n",
      "          \"bias_regularizer\": null,\n",
      "          \"activity_regularizer\": null,\n",
      "          \"kernel_constraint\": null,\n",
      "          \"bias_constraint\": null\n",
      "        }\n",
      "      },\n",
      "      {\n",
      "        \"class_name\": \"Dense\",\n",
      "        \"config\": {\n",
      "          \"name\": \"dense_4\",\n",
      "          \"trainable\": true,\n",
      "          \"dtype\": \"float32\",\n",
      "          \"units\": 64,\n",
      "          \"activation\": \"relu\",\n",
      "          \"use_bias\": true,\n",
      "          \"kernel_initializer\": {\n",
      "            \"class_name\": \"GlorotUniform\",\n",
      "            \"config\": {\n",
      "              \"seed\": null\n",
      "            }\n",
      "          },\n",
      "          \"bias_initializer\": {\n",
      "            \"class_name\": \"Zeros\",\n",
      "            \"config\": {}\n",
      "          },\n",
      "          \"kernel_regularizer\": null,\n",
      "          \"bias_regularizer\": null,\n",
      "          \"activity_regularizer\": null,\n",
      "          \"kernel_constraint\": null,\n",
      "          \"bias_constraint\": null\n",
      "        }\n",
      "      },\n",
      "      {\n",
      "        \"class_name\": \"Dense\",\n",
      "        \"config\": {\n",
      "          \"name\": \"dense_5\",\n",
      "          \"trainable\": true,\n",
      "          \"dtype\": \"float32\",\n",
      "          \"units\": 10,\n",
      "          \"activation\": \"softmax\",\n",
      "          \"use_bias\": true,\n",
      "          \"kernel_initializer\": {\n",
      "            \"class_name\": \"GlorotUniform\",\n",
      "            \"config\": {\n",
      "              \"seed\": null\n",
      "            }\n",
      "          },\n",
      "          \"bias_initializer\": {\n",
      "            \"class_name\": \"Zeros\",\n",
      "            \"config\": {}\n",
      "          },\n",
      "          \"kernel_regularizer\": null,\n",
      "          \"bias_regularizer\": null,\n",
      "          \"activity_regularizer\": null,\n",
      "          \"kernel_constraint\": null,\n",
      "          \"bias_constraint\": null\n",
      "        }\n",
      "      }\n",
      "    ],\n",
      "    \"build_input_shape\": [\n",
      "      null,\n",
      "      32\n",
      "    ]\n",
      "  },\n",
      "  \"keras_version\": \"2.2.4-tf\",\n",
      "  \"backend\": \"tensorflow\"\n",
      "}\n"
     ]
    }
   ],
   "source": [
    "print(model.to_json(indent=2))"
   ]
  },
  {
   "cell_type": "code",
   "execution_count": null,
   "metadata": {},
   "outputs": [],
   "source": []
  }
 ],
 "metadata": {
  "kernelspec": {
   "display_name": "Python 3",
   "language": "python",
   "name": "python3"
  },
  "language_info": {
   "codemirror_mode": {
    "name": "ipython",
    "version": 3
   },
   "file_extension": ".py",
   "mimetype": "text/x-python",
   "name": "python",
   "nbconvert_exporter": "python",
   "pygments_lexer": "ipython3",
   "version": "3.6.8"
  }
 },
 "nbformat": 4,
 "nbformat_minor": 4
}
